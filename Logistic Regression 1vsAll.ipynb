{
 "cells": [
  {
   "cell_type": "code",
   "execution_count": 1,
   "metadata": {},
   "outputs": [],
   "source": [
    "import csv\n",
    "import numpy as np\n",
    "import math \n",
    "import copy\n",
    "import random"
   ]
  },
  {
   "cell_type": "markdown",
   "metadata": {},
   "source": [
    "Reads the data "
   ]
  },
  {
   "cell_type": "code",
   "execution_count": 2,
   "metadata": {},
   "outputs": [],
   "source": [
    "\n",
    "def read_data(path): \n",
    "    with open(path, 'r') as f:\n",
    "        data = csv.reader(f, delimiter=',')        \n",
    "        training_inputs = [] \n",
    "        for i, line in enumerate(data):\n",
    "            if i == 0: #first line is title\n",
    "                continue \n",
    "            else:\n",
    "                feature_vector = [1] #account for bias term \n",
    "                feature_vector.extend(line[:-1])\n",
    "                feature_vector = np.array(feature_vector).astype('float64')\n",
    "                label = line[-1] \n",
    "                training_inputs.append((feature_vector, label))\n",
    "        return training_inputs"
   ]
  },
  {
   "cell_type": "markdown",
   "metadata": {},
   "source": [
    "Training model"
   ]
  },
  {
   "cell_type": "code",
   "execution_count": 3,
   "metadata": {},
   "outputs": [],
   "source": [
    "def compute_full_model(data, epoch): #finds all weights using 1 vs all\n",
    "    labels = []\n",
    "    for line in data:\n",
    "        if line[-1] not in labels:\n",
    "            labels.append(line[-1])\n",
    "    models = [] \n",
    "    for label in labels:\n",
    "        models.append(train_model(epoch, data, label))\n",
    "    return (models, labels)\n",
    "\n",
    "def train_model(epoch, data, postive_label): #1 vs all \n",
    "    weights = np.zeros(len(data[0][0])) #data is [(feature_vector, label),...]\n",
    "    learner_rate = 0.1 #learning rate for stochastic gradient decent \n",
    "    decay = 0.99\n",
    "    data = copy.copy(data) #prevent aliasing issues\n",
    "    for _ in range(epoch):\n",
    "        learner_rate = learner_rate*decay\n",
    "        random.shuffle(data)\n",
    "        for feature_vector, label in data:  #implement shuffle \n",
    "            gradient_vector = compute_graident(weights, feature_vector, label, postive_label)*learner_rate*feature_vector #formula\n",
    "            weights = weights + gradient_vector\n",
    "    return weights \n",
    "\n",
    "def compute_graident(weights, feature_vector, label, postive_label):\n",
    "    if label == postive_label: y = 1\n",
    "    else: y = 0\n",
    "    assert(len(feature_vector)   == len(weights))\n",
    "    dot_product = np.dot(weights, feature_vector)\n",
    "    if dot_product > 600: #so exp function doesn't overflow \n",
    "        return y - 1\n",
    "    elif dot_product < -600:\n",
    "        return y \n",
    "    exp_val = math.exp(dot_product)\n",
    "    return y - ((exp_val)/(1+exp_val))"
   ]
  },
  {
   "cell_type": "markdown",
   "metadata": {},
   "source": [
    "Makes a prediction for one data set "
   ]
  },
  {
   "cell_type": "code",
   "execution_count": 6,
   "metadata": {},
   "outputs": [],
   "source": [
    "def predict(models, labels, feature_vector):\n",
    "    probability_list = []\n",
    "    assert(len(models) == len(labels))\n",
    "    for model, label in zip(models, labels):\n",
    "        dot_product = np.dot(model, feature_vector)\n",
    "        if dot_product > 400: #so exp function doesn't overflow \n",
    "            probability = 0\n",
    "        elif dot_product < -400:\n",
    "            probability = 1\n",
    "        else:\n",
    "            exp_val = math.exp(dot_product)\n",
    "            probability = exp_val/(1+exp_val)\n",
    "        probability_list.append((probability, label))\n",
    "    return max(probability_list, key = lambda probs: probs[0])[1]"
   ]
  },
  {
   "cell_type": "markdown",
   "metadata": {},
   "source": [
    "Calculates Error"
   ]
  },
  {
   "cell_type": "code",
   "execution_count": 15,
   "metadata": {},
   "outputs": [],
   "source": [
    "def error_rate(training_set, models, labels):\n",
    "    error = 0\n",
    "    for feature_vector, label in training_set:\n",
    "        if predict(models, labels, feature_vector) != label:\n",
    "            error += 1\n",
    "    return error/len(training_set)\n",
    "\n",
    "data = read_data(\"iris_full_set.csv\")\n",
    "models, labels = compute_full_model(data, 200)"
   ]
  },
  {
   "cell_type": "code",
   "execution_count": 29,
   "metadata": {},
   "outputs": [
    {
     "name": "stdout",
     "output_type": "stream",
     "text": [
      "train error: 0.0167\n",
      "test error: 0.0333\n",
      "Iris-virginica\n"
     ]
    }
   ],
   "source": [
    "\n",
    "data = read_data(\"iris_full_set.csv\")\n",
    "for _ in range(20):\n",
    "    np.random.shuffle(data)\n",
    "\n",
    "index_80 = int(0.8*len(data)) #index of 80% \n",
    "\n",
    "training_set = data[:index_80]\n",
    "test_set = data[index_80:]\n",
    "models, labels = compute_full_model(training_set, 200)\n",
    "\n",
    "print(\"train error: %0.4f\" %(error_rate(training_set, models,labels)))\n",
    "print(\"test error: %0.4f\" %error_rate(test_set, models,labels))\n",
    "\n",
    "#to predict one lable, replace the lst with the features \n",
    "print(predict(models, labels, [1,2,3,4,4]))"
   ]
  },
  {
   "cell_type": "code",
   "execution_count": null,
   "metadata": {},
   "outputs": [],
   "source": []
  },
  {
   "cell_type": "code",
   "execution_count": null,
   "metadata": {},
   "outputs": [],
   "source": []
  }
 ],
 "metadata": {
  "kernelspec": {
   "display_name": "Python 3",
   "language": "python",
   "name": "python3"
  },
  "language_info": {
   "codemirror_mode": {
    "name": "ipython",
    "version": 3
   },
   "file_extension": ".py",
   "mimetype": "text/x-python",
   "name": "python",
   "nbconvert_exporter": "python",
   "pygments_lexer": "ipython3",
   "version": "3.7.3"
  }
 },
 "nbformat": 4,
 "nbformat_minor": 2
}
